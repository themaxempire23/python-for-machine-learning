{
 "cells": [
  {
   "cell_type": "markdown",
   "id": "b0750360-815e-49f8-82b1-72432b055331",
   "metadata": {},
   "source": [
    "## Project: Reading a csv file"
   ]
  },
  {
   "cell_type": "code",
   "execution_count": 2,
   "id": "5feeafc5-f7d4-4715-b65e-19edb468bb3c",
   "metadata": {},
   "outputs": [],
   "source": [
    "import pandas as pd\n",
    "import numpy as np"
   ]
  },
  {
   "cell_type": "code",
   "execution_count": 4,
   "id": "d8a174b6-bd12-4ac2-8dd6-1a39be74e374",
   "metadata": {},
   "outputs": [],
   "source": [
    "df=pd.read_csv(r'C:\\Users\\Max\\Documents\\Projects\\python-for-machine-learning\\archive1\\2010-2024 Movies Box Ofice Collection.csv')"
   ]
  },
  {
   "cell_type": "code",
   "execution_count": 5,
   "id": "7e291e00-fc3a-4534-afde-1907d7dd75e7",
   "metadata": {},
   "outputs": [
    {
     "data": {
      "text/html": [
       "<div>\n",
       "<style scoped>\n",
       "    .dataframe tbody tr th:only-of-type {\n",
       "        vertical-align: middle;\n",
       "    }\n",
       "\n",
       "    .dataframe tbody tr th {\n",
       "        vertical-align: top;\n",
       "    }\n",
       "\n",
       "    .dataframe thead th {\n",
       "        text-align: right;\n",
       "    }\n",
       "</style>\n",
       "<table border=\"1\" class=\"dataframe\">\n",
       "  <thead>\n",
       "    <tr style=\"text-align: right;\">\n",
       "      <th></th>\n",
       "      <th>Rank</th>\n",
       "      <th>Release Group</th>\n",
       "      <th>Worldwide</th>\n",
       "      <th>Domestic</th>\n",
       "      <th>Domestic_percent</th>\n",
       "      <th>Foreign</th>\n",
       "      <th>Foreign_percent</th>\n",
       "      <th>year</th>\n",
       "    </tr>\n",
       "  </thead>\n",
       "  <tbody>\n",
       "    <tr>\n",
       "      <th>0</th>\n",
       "      <td>0</td>\n",
       "      <td>Toy Story 3</td>\n",
       "      <td>1,06,69,69,703</td>\n",
       "      <td>41,50,04,880</td>\n",
       "      <td>38.90%</td>\n",
       "      <td>65,19,64,823</td>\n",
       "      <td>61.10%</td>\n",
       "      <td>2010</td>\n",
       "    </tr>\n",
       "    <tr>\n",
       "      <th>1</th>\n",
       "      <td>1</td>\n",
       "      <td>Alice in Wonderland</td>\n",
       "      <td>1,02,54,67,110</td>\n",
       "      <td>33,41,91,110</td>\n",
       "      <td>32.60%</td>\n",
       "      <td>69,12,76,000</td>\n",
       "      <td>67.40%</td>\n",
       "      <td>2010</td>\n",
       "    </tr>\n",
       "    <tr>\n",
       "      <th>2</th>\n",
       "      <td>2</td>\n",
       "      <td>Harry Potter and the Deathly Hallows: Part 1</td>\n",
       "      <td>96,02,83,305</td>\n",
       "      <td>29,59,83,305</td>\n",
       "      <td>30.80%</td>\n",
       "      <td>66,43,00,000</td>\n",
       "      <td>69.20%</td>\n",
       "      <td>2010</td>\n",
       "    </tr>\n",
       "    <tr>\n",
       "      <th>3</th>\n",
       "      <td>3</td>\n",
       "      <td>Inception</td>\n",
       "      <td>82,82,58,695</td>\n",
       "      <td>29,25,76,195</td>\n",
       "      <td>35.30%</td>\n",
       "      <td>53,56,82,500</td>\n",
       "      <td>64.70%</td>\n",
       "      <td>2010</td>\n",
       "    </tr>\n",
       "    <tr>\n",
       "      <th>4</th>\n",
       "      <td>4</td>\n",
       "      <td>Shrek Forever After</td>\n",
       "      <td>75,26,00,867</td>\n",
       "      <td>23,87,36,787</td>\n",
       "      <td>31.70%</td>\n",
       "      <td>51,38,64,080</td>\n",
       "      <td>68.30%</td>\n",
       "      <td>2010</td>\n",
       "    </tr>\n",
       "  </tbody>\n",
       "</table>\n",
       "</div>"
      ],
      "text/plain": [
       "   Rank                                 Release Group       Worldwide  \\\n",
       "0     0                                   Toy Story 3  1,06,69,69,703   \n",
       "1     1                           Alice in Wonderland  1,02,54,67,110   \n",
       "2     2  Harry Potter and the Deathly Hallows: Part 1    96,02,83,305   \n",
       "3     3                                     Inception    82,82,58,695   \n",
       "4     4                           Shrek Forever After    75,26,00,867   \n",
       "\n",
       "       Domestic Domestic_percent       Foreign Foreign_percent  year  \n",
       "0  41,50,04,880           38.90%  65,19,64,823          61.10%  2010  \n",
       "1  33,41,91,110           32.60%  69,12,76,000          67.40%  2010  \n",
       "2  29,59,83,305           30.80%  66,43,00,000          69.20%  2010  \n",
       "3  29,25,76,195           35.30%  53,56,82,500          64.70%  2010  \n",
       "4  23,87,36,787           31.70%  51,38,64,080          68.30%  2010  "
      ]
     },
     "execution_count": 5,
     "metadata": {},
     "output_type": "execute_result"
    }
   ],
   "source": [
    "df.head()"
   ]
  },
  {
   "cell_type": "code",
   "execution_count": 6,
   "id": "e788a26c-9f92-4a70-b4fa-89a626b90b29",
   "metadata": {},
   "outputs": [
    {
     "name": "stdout",
     "output_type": "stream",
     "text": [
      "<class 'pandas.core.frame.DataFrame'>\n",
      "RangeIndex: 2800 entries, 0 to 2799\n",
      "Data columns (total 8 columns):\n",
      " #   Column            Non-Null Count  Dtype \n",
      "---  ------            --------------  ----- \n",
      " 0   Rank              2800 non-null   int64 \n",
      " 1   Release Group     2800 non-null   object\n",
      " 2   Worldwide         2800 non-null   object\n",
      " 3   Domestic          2800 non-null   object\n",
      " 4   Domestic_percent  2800 non-null   object\n",
      " 5   Foreign           2800 non-null   object\n",
      " 6   Foreign_percent   2800 non-null   object\n",
      " 7   year              2800 non-null   int64 \n",
      "dtypes: int64(2), object(6)\n",
      "memory usage: 175.1+ KB\n"
     ]
    }
   ],
   "source": [
    "df.info()"
   ]
  },
  {
   "cell_type": "code",
   "execution_count": null,
   "id": "9c78617a-ed6d-4162-a746-48bfff94b659",
   "metadata": {},
   "outputs": [],
   "source": []
  }
 ],
 "metadata": {
  "kernelspec": {
   "display_name": "Python 3 (ipykernel)",
   "language": "python",
   "name": "python3"
  },
  "language_info": {
   "codemirror_mode": {
    "name": "ipython",
    "version": 3
   },
   "file_extension": ".py",
   "mimetype": "text/x-python",
   "name": "python",
   "nbconvert_exporter": "python",
   "pygments_lexer": "ipython3",
   "version": "3.11.5"
  }
 },
 "nbformat": 4,
 "nbformat_minor": 5
}
