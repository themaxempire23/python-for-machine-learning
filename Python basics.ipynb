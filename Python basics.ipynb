{
 "cells": [
  {
   "cell_type": "code",
   "execution_count": 1,
   "id": "9f5bfd5d-353a-420f-9163-143849541762",
   "metadata": {},
   "outputs": [
    {
     "name": "stdout",
     "output_type": "stream",
     "text": [
      "Hello Clucth\n"
     ]
    }
   ],
   "source": [
    "print (\"Hello Clucth\")"
   ]
  },
  {
   "cell_type": "code",
   "execution_count": 2,
   "id": "e6753aae-8362-4f44-a172-30f51b59b307",
   "metadata": {},
   "outputs": [
    {
     "name": "stdout",
     "output_type": "stream",
     "text": [
      "ONE\n"
     ]
    }
   ],
   "source": [
    "# Variable\n",
    "one = 'ONE'\n",
    "print(one)"
   ]
  },
  {
   "cell_type": "code",
   "execution_count": 5,
   "id": "73075849-9225-477f-a95f-599ffd7515a5",
   "metadata": {},
   "outputs": [
    {
     "data": {
      "text/plain": [
       "str"
      ]
     },
     "execution_count": 5,
     "metadata": {},
     "output_type": "execute_result"
    }
   ],
   "source": [
    "# Different data types\n",
    "String_var = 'Huffman'\n",
    "type(String_var)"
   ]
  },
  {
   "cell_type": "code",
   "execution_count": 9,
   "id": "9f4d8556-12c5-4838-a5b4-ba5fc7e3cbae",
   "metadata": {},
   "outputs": [
    {
     "data": {
      "text/plain": [
       "int"
      ]
     },
     "execution_count": 9,
     "metadata": {},
     "output_type": "execute_result"
    }
   ],
   "source": [
    "Integer_var = 12\n",
    "type(Integer_var)"
   ]
  },
  {
   "cell_type": "code",
   "execution_count": 11,
   "id": "12bfdd3b-5dd8-46f7-b385-973f35f009e1",
   "metadata": {},
   "outputs": [
    {
     "data": {
      "text/plain": [
       "float"
      ]
     },
     "execution_count": 11,
     "metadata": {},
     "output_type": "execute_result"
    }
   ],
   "source": [
    "Float_var = 13.23\n",
    "type(Float_var)"
   ]
  },
  {
   "cell_type": "code",
   "execution_count": 12,
   "id": "d0b0b669-3912-4282-bd68-ab241b9fcbbe",
   "metadata": {},
   "outputs": [
    {
     "data": {
      "text/plain": [
       "bool"
      ]
     },
     "execution_count": 12,
     "metadata": {},
     "output_type": "execute_result"
    }
   ],
   "source": [
    "type(True)"
   ]
  },
  {
   "cell_type": "code",
   "execution_count": 13,
   "id": "3abd819d-52b2-4602-bb3b-3820c4d42a2a",
   "metadata": {},
   "outputs": [
    {
     "name": "stdout",
     "output_type": "stream",
     "text": [
      "['Khabib', 99.27, 100, False, 'Hamza']\n"
     ]
    }
   ],
   "source": [
    "# Python List\n",
    "My_list = ['Khabib', 99.27, 100, False, 'Hamza']\n",
    "print(My_list)"
   ]
  },
  {
   "cell_type": "code",
   "execution_count": 16,
   "id": "936dad4c-341a-4920-b586-e514c12d0638",
   "metadata": {},
   "outputs": [],
   "source": [
    "# Python Dictionaries\n",
    "\n",
    "My_dictionary = {\n",
    "   \"Key1\": \"One\",\n",
    "   \"Key2\": \"Two\",\n",
    "   \"Key3\": \"Three\",\n",
    "}"
   ]
  }
 ],
 "metadata": {
  "kernelspec": {
   "display_name": "Python 3 (ipykernel)",
   "language": "python",
   "name": "python3"
  },
  "language_info": {
   "codemirror_mode": {
    "name": "ipython",
    "version": 3
   },
   "file_extension": ".py",
   "mimetype": "text/x-python",
   "name": "python",
   "nbconvert_exporter": "python",
   "pygments_lexer": "ipython3",
   "version": "3.11.5"
  }
 },
 "nbformat": 4,
 "nbformat_minor": 5
}
