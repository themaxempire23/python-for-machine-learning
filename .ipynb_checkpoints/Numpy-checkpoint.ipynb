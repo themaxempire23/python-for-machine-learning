{
 "cells": [
  {
   "cell_type": "markdown",
   "id": "bc278587-a041-4fa8-b54b-298abf2fbc95",
   "metadata": {},
   "source": [
    "# Numpy"
   ]
  },
  {
   "cell_type": "markdown",
   "id": "18137844-a2aa-43dc-a6fe-6490ad3f93e3",
   "metadata": {},
   "source": [
    "## Python Library Used to compute the arithmetic mean along the specified axis, mostly deals with arrays"
   ]
  },
  {
   "cell_type": "code",
   "execution_count": 1,
   "id": "bb361a89-66cd-4be8-a227-a5e4684001d1",
   "metadata": {},
   "outputs": [
    {
     "name": "stdout",
     "output_type": "stream",
     "text": [
      "Requirement already satisfied: numpy in c:\\users\\max\\appdata\\local\\programs\\python\\python311\\lib\\site-packages (2.2.1)\n"
     ]
    }
   ],
   "source": [
    "!pip install numpy"
   ]
  },
  {
   "cell_type": "code",
   "execution_count": 5,
   "id": "701c24ce-77eb-4615-8eb0-effc70936b1d",
   "metadata": {},
   "outputs": [],
   "source": [
    "import numpy as np"
   ]
  },
  {
   "cell_type": "markdown",
   "id": "bf61d97c-8363-4c56-92dc-a2560147ddd2",
   "metadata": {},
   "source": [
    "# Creating a 1 dimensional array"
   ]
  },
  {
   "cell_type": "code",
   "execution_count": 6,
   "id": "acf9dbe8-e985-4fe4-aa17-6c93e691620f",
   "metadata": {},
   "outputs": [],
   "source": [
    "my_list = [1, 2, 3, 4, 5, 8,9]\n",
    "my_array=np.array(my_list)"
   ]
  },
  {
   "cell_type": "code",
   "execution_count": 8,
   "id": "41d81882-ada1-4bb2-a289-93019b35b8af",
   "metadata": {},
   "outputs": [
    {
     "data": {
      "text/plain": [
       "numpy.ndarray"
      ]
     },
     "execution_count": 8,
     "metadata": {},
     "output_type": "execute_result"
    }
   ],
   "source": [
    "type(my_array)"
   ]
  },
  {
   "cell_type": "code",
   "execution_count": 9,
   "id": "8d66acc7-8fed-4a25-809e-2401cc871eac",
   "metadata": {},
   "outputs": [
    {
     "data": {
      "text/plain": [
       "(7,)"
      ]
     },
     "execution_count": 9,
     "metadata": {},
     "output_type": "execute_result"
    }
   ],
   "source": [
    "my_array.shape"
   ]
  },
  {
   "cell_type": "markdown",
   "id": "642bac91-6c74-4486-bbcc-b104d5c4845f",
   "metadata": {},
   "source": [
    "# Creating a 2 dimensional array"
   ]
  },
  {
   "cell_type": "code",
   "execution_count": 14,
   "id": "e2c7e9ec-232e-4467-9de4-42e70524c63b",
   "metadata": {},
   "outputs": [],
   "source": [
    "my_list1 = [2, 3, 4, 5, 1,]\n",
    "my_list2 = [1, 3, 8, 5, 2,]\n",
    "my_list3 = [6, 9, 4, 7, 8,]\n",
    "\n",
    "two_d=np.array([my_list1, my_list2, my_list3])"
   ]
  },
  {
   "cell_type": "code",
   "execution_count": 15,
   "id": "d772fa2e-8835-49fb-83f5-ff10a338587e",
   "metadata": {},
   "outputs": [
    {
     "data": {
      "text/plain": [
       "array([[2, 3, 4, 5, 1],\n",
       "       [1, 3, 8, 5, 2],\n",
       "       [6, 9, 4, 7, 8]])"
      ]
     },
     "execution_count": 15,
     "metadata": {},
     "output_type": "execute_result"
    }
   ],
   "source": [
    "two_d"
   ]
  },
  {
   "cell_type": "code",
   "execution_count": 16,
   "id": "0ce073c9-7ea7-427c-b4f9-3755ae3df2a2",
   "metadata": {},
   "outputs": [
    {
     "data": {
      "text/plain": [
       "(3, 5)"
      ]
     },
     "execution_count": 16,
     "metadata": {},
     "output_type": "execute_result"
    }
   ],
   "source": [
    "two_d.shape"
   ]
  },
  {
   "cell_type": "code",
   "execution_count": 18,
   "id": "2cc62b7c-f100-4439-b3c1-03b0f944dff6",
   "metadata": {},
   "outputs": [
    {
     "data": {
      "text/plain": [
       "array([[2, 3, 4],\n",
       "       [5, 1, 1],\n",
       "       [3, 8, 5],\n",
       "       [2, 6, 9],\n",
       "       [4, 7, 8]])"
      ]
     },
     "execution_count": 18,
     "metadata": {},
     "output_type": "execute_result"
    }
   ],
   "source": [
    "# Reshaping the array in any shape I want\n",
    "\n",
    "two_d.reshape(5, 3)"
   ]
  },
  {
   "cell_type": "code",
   "execution_count": 19,
   "id": "26c9f212-7b5b-4ece-8d68-4d5b86a44571",
   "metadata": {},
   "outputs": [
    {
     "data": {
      "text/plain": [
       "array([2, 3, 4, 5, 1, 1, 3, 8, 5, 2, 6, 9, 4, 7, 8])"
      ]
     },
     "execution_count": 19,
     "metadata": {},
     "output_type": "execute_result"
    }
   ],
   "source": [
    "two_d.reshape(15, )"
   ]
  },
  {
   "cell_type": "code",
   "execution_count": 21,
   "id": "e9e1c096-d125-4dc9-b8b9-5fb22edc3448",
   "metadata": {},
   "outputs": [
    {
     "data": {
      "text/plain": [
       "array([[2, 3, 4, 5, 1, 1, 3, 8, 5, 2, 6, 9, 4, 7, 8]])"
      ]
     },
     "execution_count": 21,
     "metadata": {},
     "output_type": "execute_result"
    }
   ],
   "source": [
    "two_d.reshape(1, 15)"
   ]
  }
 ],
 "metadata": {
  "kernelspec": {
   "display_name": "Python 3 (ipykernel)",
   "language": "python",
   "name": "python3"
  },
  "language_info": {
   "codemirror_mode": {
    "name": "ipython",
    "version": 3
   },
   "file_extension": ".py",
   "mimetype": "text/x-python",
   "name": "python",
   "nbconvert_exporter": "python",
   "pygments_lexer": "ipython3",
   "version": "3.11.5"
  }
 },
 "nbformat": 4,
 "nbformat_minor": 5
}
