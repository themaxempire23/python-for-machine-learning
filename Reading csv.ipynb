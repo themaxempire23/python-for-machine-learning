{
 "cells": [
  {
   "cell_type": "markdown",
   "id": "4574dc91-898e-4296-a5d6-5e27b9279608",
   "metadata": {},
   "source": [
    "## Reading .CSV Files with different Parameters in Pandas"
   ]
  },
  {
   "cell_type": "code",
   "execution_count": 2,
   "id": "a87ef607-5518-410b-ace5-b1a030343fa4",
   "metadata": {},
   "outputs": [],
   "source": [
    "import pandas as pd\n",
    "import numpy as np"
   ]
  },
  {
   "cell_type": "code",
   "execution_count": 4,
   "id": "4a0748a7-7107-4b10-8ee7-395ecb28051c",
   "metadata": {},
   "outputs": [],
   "source": [
    "df=pd.read_csv(r'C:\\Users\\Max\\Documents\\Projects\\python-for-machine-learning\\archive1\\2024 Movies Box Ofice Collection.csv')"
   ]
  },
  {
   "cell_type": "code",
   "execution_count": 5,
   "id": "7c30750d-4385-4ebd-8049-c16a662da30b",
   "metadata": {},
   "outputs": [
    {
     "data": {
      "text/html": [
       "<div>\n",
       "<style scoped>\n",
       "    .dataframe tbody tr th:only-of-type {\n",
       "        vertical-align: middle;\n",
       "    }\n",
       "\n",
       "    .dataframe tbody tr th {\n",
       "        vertical-align: top;\n",
       "    }\n",
       "\n",
       "    .dataframe thead th {\n",
       "        text-align: right;\n",
       "    }\n",
       "</style>\n",
       "<table border=\"1\" class=\"dataframe\">\n",
       "  <thead>\n",
       "    <tr style=\"text-align: right;\">\n",
       "      <th></th>\n",
       "      <th>Unnamed: 0</th>\n",
       "      <th>Release Group</th>\n",
       "      <th>Worldwide</th>\n",
       "      <th>Domestic</th>\n",
       "      <th>Domestic_percent</th>\n",
       "      <th>Foreign</th>\n",
       "      <th>Foreign_percent</th>\n",
       "      <th>year</th>\n",
       "    </tr>\n",
       "  </thead>\n",
       "  <tbody>\n",
       "    <tr>\n",
       "      <th>0</th>\n",
       "      <td>0</td>\n",
       "      <td>Inside Out 2</td>\n",
       "      <td>1,59,59,83,694</td>\n",
       "      <td>63,78,52,840</td>\n",
       "      <td>40%</td>\n",
       "      <td>95,81,30,854</td>\n",
       "      <td>60%</td>\n",
       "      <td>2024</td>\n",
       "    </tr>\n",
       "    <tr>\n",
       "      <th>1</th>\n",
       "      <td>1</td>\n",
       "      <td>Deadpool &amp; Wolverine</td>\n",
       "      <td>1,04,31,80,185</td>\n",
       "      <td>50,69,37,007</td>\n",
       "      <td>48.60%</td>\n",
       "      <td>53,62,43,178</td>\n",
       "      <td>51.40%</td>\n",
       "      <td>2024</td>\n",
       "    </tr>\n",
       "    <tr>\n",
       "      <th>2</th>\n",
       "      <td>2</td>\n",
       "      <td>Despicable Me 4</td>\n",
       "      <td>80,85,37,571</td>\n",
       "      <td>33,25,83,715</td>\n",
       "      <td>41.10%</td>\n",
       "      <td>47,59,53,856</td>\n",
       "      <td>58.90%</td>\n",
       "      <td>2024</td>\n",
       "    </tr>\n",
       "    <tr>\n",
       "      <th>3</th>\n",
       "      <td>3</td>\n",
       "      <td>Dune: Part Two</td>\n",
       "      <td>71,18,44,358</td>\n",
       "      <td>28,21,44,358</td>\n",
       "      <td>39.60%</td>\n",
       "      <td>42,97,00,000</td>\n",
       "      <td>60.40%</td>\n",
       "      <td>2024</td>\n",
       "    </tr>\n",
       "    <tr>\n",
       "      <th>4</th>\n",
       "      <td>4</td>\n",
       "      <td>Godzilla x Kong: The New Empire</td>\n",
       "      <td>56,76,50,016</td>\n",
       "      <td>19,63,50,016</td>\n",
       "      <td>34.60%</td>\n",
       "      <td>37,13,00,000</td>\n",
       "      <td>65.40%</td>\n",
       "      <td>2024</td>\n",
       "    </tr>\n",
       "  </tbody>\n",
       "</table>\n",
       "</div>"
      ],
      "text/plain": [
       "   Unnamed: 0                    Release Group       Worldwide      Domestic  \\\n",
       "0           0                     Inside Out 2  1,59,59,83,694  63,78,52,840   \n",
       "1           1             Deadpool & Wolverine  1,04,31,80,185  50,69,37,007   \n",
       "2           2                  Despicable Me 4    80,85,37,571  33,25,83,715   \n",
       "3           3                   Dune: Part Two    71,18,44,358  28,21,44,358   \n",
       "4           4  Godzilla x Kong: The New Empire    56,76,50,016  19,63,50,016   \n",
       "\n",
       "  Domestic_percent       Foreign Foreign_percent  year  \n",
       "0              40%  95,81,30,854             60%  2024  \n",
       "1           48.60%  53,62,43,178          51.40%  2024  \n",
       "2           41.10%  47,59,53,856          58.90%  2024  \n",
       "3           39.60%  42,97,00,000          60.40%  2024  \n",
       "4           34.60%  37,13,00,000          65.40%  2024  "
      ]
     },
     "execution_count": 5,
     "metadata": {},
     "output_type": "execute_result"
    }
   ],
   "source": [
    "df.head()"
   ]
  },
  {
   "cell_type": "code",
   "execution_count": 8,
   "id": "b98b39ae-b9ef-4313-8207-d29bc9be7028",
   "metadata": {},
   "outputs": [
    {
     "name": "stdout",
     "output_type": "stream",
     "text": [
      "<class 'pandas.core.frame.DataFrame'>\n",
      "RangeIndex: 200 entries, 0 to 199\n",
      "Data columns (total 8 columns):\n",
      " #   Column            Non-Null Count  Dtype \n",
      "---  ------            --------------  ----- \n",
      " 0   Unnamed: 0        200 non-null    int64 \n",
      " 1   Release Group     200 non-null    object\n",
      " 2   Worldwide         200 non-null    object\n",
      " 3   Domestic          200 non-null    object\n",
      " 4   Domestic_percent  200 non-null    object\n",
      " 5   Foreign           200 non-null    object\n",
      " 6   Foreign_percent   200 non-null    object\n",
      " 7   year              200 non-null    int64 \n",
      "dtypes: int64(2), object(6)\n",
      "memory usage: 12.6+ KB\n"
     ]
    }
   ],
   "source": [
    "# Finding out what the csv file is all about(information about the file)\n",
    "df.info()"
   ]
  },
  {
   "cell_type": "code",
   "execution_count": 9,
   "id": "f175f40f-f33b-4a53-827a-9fd93b24b344",
   "metadata": {},
   "outputs": [
    {
     "data": {
      "text/html": [
       "<div>\n",
       "<style scoped>\n",
       "    .dataframe tbody tr th:only-of-type {\n",
       "        vertical-align: middle;\n",
       "    }\n",
       "\n",
       "    .dataframe tbody tr th {\n",
       "        vertical-align: top;\n",
       "    }\n",
       "\n",
       "    .dataframe thead th {\n",
       "        text-align: right;\n",
       "    }\n",
       "</style>\n",
       "<table border=\"1\" class=\"dataframe\">\n",
       "  <thead>\n",
       "    <tr style=\"text-align: right;\">\n",
       "      <th></th>\n",
       "      <th>Unnamed: 0</th>\n",
       "      <th>year</th>\n",
       "    </tr>\n",
       "  </thead>\n",
       "  <tbody>\n",
       "    <tr>\n",
       "      <th>count</th>\n",
       "      <td>200.000000</td>\n",
       "      <td>200.0</td>\n",
       "    </tr>\n",
       "    <tr>\n",
       "      <th>mean</th>\n",
       "      <td>99.500000</td>\n",
       "      <td>2024.0</td>\n",
       "    </tr>\n",
       "    <tr>\n",
       "      <th>std</th>\n",
       "      <td>57.879185</td>\n",
       "      <td>0.0</td>\n",
       "    </tr>\n",
       "    <tr>\n",
       "      <th>min</th>\n",
       "      <td>0.000000</td>\n",
       "      <td>2024.0</td>\n",
       "    </tr>\n",
       "    <tr>\n",
       "      <th>25%</th>\n",
       "      <td>49.750000</td>\n",
       "      <td>2024.0</td>\n",
       "    </tr>\n",
       "    <tr>\n",
       "      <th>50%</th>\n",
       "      <td>99.500000</td>\n",
       "      <td>2024.0</td>\n",
       "    </tr>\n",
       "    <tr>\n",
       "      <th>75%</th>\n",
       "      <td>149.250000</td>\n",
       "      <td>2024.0</td>\n",
       "    </tr>\n",
       "    <tr>\n",
       "      <th>max</th>\n",
       "      <td>199.000000</td>\n",
       "      <td>2024.0</td>\n",
       "    </tr>\n",
       "  </tbody>\n",
       "</table>\n",
       "</div>"
      ],
      "text/plain": [
       "       Unnamed: 0    year\n",
       "count  200.000000   200.0\n",
       "mean    99.500000  2024.0\n",
       "std     57.879185     0.0\n",
       "min      0.000000  2024.0\n",
       "25%     49.750000  2024.0\n",
       "50%     99.500000  2024.0\n",
       "75%    149.250000  2024.0\n",
       "max    199.000000  2024.0"
      ]
     },
     "execution_count": 9,
     "metadata": {},
     "output_type": "execute_result"
    }
   ],
   "source": [
    "df.describe()"
   ]
  },
  {
   "cell_type": "code",
   "execution_count": 10,
   "id": "21f5b6cb-c2be-4ad0-bd12-05edcf3f5910",
   "metadata": {},
   "outputs": [],
   "source": [
    "simple_df=pd.read_csv('Data_Frame01Example.csv',sep=';')"
   ]
  },
  {
   "cell_type": "code",
   "execution_count": 11,
   "id": "b7265c77-2e89-4329-806c-1fe309700167",
   "metadata": {},
   "outputs": [
    {
     "data": {
      "text/html": [
       "<div>\n",
       "<style scoped>\n",
       "    .dataframe tbody tr th:only-of-type {\n",
       "        vertical-align: middle;\n",
       "    }\n",
       "\n",
       "    .dataframe tbody tr th {\n",
       "        vertical-align: top;\n",
       "    }\n",
       "\n",
       "    .dataframe thead th {\n",
       "        text-align: right;\n",
       "    }\n",
       "</style>\n",
       "<table border=\"1\" class=\"dataframe\">\n",
       "  <thead>\n",
       "    <tr style=\"text-align: right;\">\n",
       "      <th></th>\n",
       "      <th>Unnamed: 0</th>\n",
       "      <th>Col1</th>\n",
       "      <th>Col2</th>\n",
       "      <th>Col3</th>\n",
       "      <th>Col4</th>\n",
       "    </tr>\n",
       "  </thead>\n",
       "  <tbody>\n",
       "    <tr>\n",
       "      <th>0</th>\n",
       "      <td>R_one</td>\n",
       "      <td>1</td>\n",
       "      <td>2</td>\n",
       "      <td>3</td>\n",
       "      <td>4</td>\n",
       "    </tr>\n",
       "    <tr>\n",
       "      <th>1</th>\n",
       "      <td>R_two</td>\n",
       "      <td>5</td>\n",
       "      <td>6</td>\n",
       "      <td>7</td>\n",
       "      <td>8</td>\n",
       "    </tr>\n",
       "    <tr>\n",
       "      <th>2</th>\n",
       "      <td>R_three</td>\n",
       "      <td>9</td>\n",
       "      <td>10</td>\n",
       "      <td>11</td>\n",
       "      <td>12</td>\n",
       "    </tr>\n",
       "    <tr>\n",
       "      <th>3</th>\n",
       "      <td>R_four</td>\n",
       "      <td>13</td>\n",
       "      <td>14</td>\n",
       "      <td>15</td>\n",
       "      <td>16</td>\n",
       "    </tr>\n",
       "    <tr>\n",
       "      <th>4</th>\n",
       "      <td>R_five</td>\n",
       "      <td>17</td>\n",
       "      <td>18</td>\n",
       "      <td>19</td>\n",
       "      <td>20</td>\n",
       "    </tr>\n",
       "  </tbody>\n",
       "</table>\n",
       "</div>"
      ],
      "text/plain": [
       "  Unnamed: 0  Col1  Col2  Col3  Col4\n",
       "0      R_one     1     2     3     4\n",
       "1      R_two     5     6     7     8\n",
       "2    R_three     9    10    11    12\n",
       "3     R_four    13    14    15    16\n",
       "4     R_five    17    18    19    20"
      ]
     },
     "execution_count": 11,
     "metadata": {},
     "output_type": "execute_result"
    }
   ],
   "source": [
    "simple_df"
   ]
  },
  {
   "cell_type": "code",
   "execution_count": 12,
   "id": "c66c1509-5cd6-4fcd-a433-6bd453d1b98c",
   "metadata": {},
   "outputs": [
    {
     "data": {
      "text/plain": [
       "Release Group\n",
       "Inside Out 2                               1\n",
       "Deadpool & Wolverine                       1\n",
       "Despicable Me 4                            1\n",
       "Dune: Part Two                             1\n",
       "Godzilla x Kong: The New Empire            1\n",
       "                                          ..\n",
       "Buzz House: The Movie                      1\n",
       "We 12                                      1\n",
       "Me Contro Te - Il film: Operazione Spie    1\n",
       "Menudas piezas                             1\n",
       "Silent Love                                1\n",
       "Name: count, Length: 200, dtype: int64"
      ]
     },
     "execution_count": 12,
     "metadata": {},
     "output_type": "execute_result"
    }
   ],
   "source": [
    "df['Release Group'].value_counts()"
   ]
  },
  {
   "cell_type": "code",
   "execution_count": 14,
   "id": "a8ba248b-9692-4bf2-8b09-d7c3f99d6887",
   "metadata": {},
   "outputs": [
    {
     "data": {
      "text/html": [
       "<div>\n",
       "<style scoped>\n",
       "    .dataframe tbody tr th:only-of-type {\n",
       "        vertical-align: middle;\n",
       "    }\n",
       "\n",
       "    .dataframe tbody tr th {\n",
       "        vertical-align: top;\n",
       "    }\n",
       "\n",
       "    .dataframe thead th {\n",
       "        text-align: right;\n",
       "    }\n",
       "</style>\n",
       "<table border=\"1\" class=\"dataframe\">\n",
       "  <thead>\n",
       "    <tr style=\"text-align: right;\">\n",
       "      <th></th>\n",
       "      <th>Unnamed: 0</th>\n",
       "      <th>Release Group</th>\n",
       "      <th>Worldwide</th>\n",
       "      <th>Domestic</th>\n",
       "      <th>Domestic_percent</th>\n",
       "      <th>Foreign</th>\n",
       "      <th>Foreign_percent</th>\n",
       "      <th>year</th>\n",
       "    </tr>\n",
       "  </thead>\n",
       "  <tbody>\n",
       "  </tbody>\n",
       "</table>\n",
       "</div>"
      ],
      "text/plain": [
       "Empty DataFrame\n",
       "Columns: [Unnamed: 0, Release Group, Worldwide, Domestic, Domestic_percent, Foreign, Foreign_percent, year]\n",
       "Index: []"
      ]
     },
     "execution_count": 14,
     "metadata": {},
     "output_type": "execute_result"
    }
   ],
   "source": [
    "df[df['Foreign_percent']==1]"
   ]
  },
  {
   "cell_type": "code",
   "execution_count": null,
   "id": "293e4d33-88b1-46b9-8d0f-41805a272be6",
   "metadata": {},
   "outputs": [],
   "source": []
  }
 ],
 "metadata": {
  "kernelspec": {
   "display_name": "Python 3 (ipykernel)",
   "language": "python",
   "name": "python3"
  },
  "language_info": {
   "codemirror_mode": {
    "name": "ipython",
    "version": 3
   },
   "file_extension": ".py",
   "mimetype": "text/x-python",
   "name": "python",
   "nbconvert_exporter": "python",
   "pygments_lexer": "ipython3",
   "version": "3.11.5"
  }
 },
 "nbformat": 4,
 "nbformat_minor": 5
}
