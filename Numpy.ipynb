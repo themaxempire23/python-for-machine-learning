{
 "cells": [
  {
   "cell_type": "markdown",
   "id": "bc278587-a041-4fa8-b54b-298abf2fbc95",
   "metadata": {},
   "source": [
    "# Numpy"
   ]
  },
  {
   "cell_type": "markdown",
   "id": "18137844-a2aa-43dc-a6fe-6490ad3f93e3",
   "metadata": {},
   "source": [
    "## Python Library Used to compute the arithmetic mean along the specified axis, mostly deals with arrays"
   ]
  },
  {
   "cell_type": "code",
   "execution_count": 1,
   "id": "bb361a89-66cd-4be8-a227-a5e4684001d1",
   "metadata": {},
   "outputs": [
    {
     "name": "stdout",
     "output_type": "stream",
     "text": [
      "Requirement already satisfied: numpy in c:\\users\\max\\appdata\\local\\programs\\python\\python311\\lib\\site-packages (2.2.1)\n"
     ]
    }
   ],
   "source": [
    "!pip install numpy"
   ]
  },
  {
   "cell_type": "code",
   "execution_count": 5,
   "id": "701c24ce-77eb-4615-8eb0-effc70936b1d",
   "metadata": {},
   "outputs": [],
   "source": [
    "import numpy as np"
   ]
  },
  {
   "cell_type": "markdown",
   "id": "bf61d97c-8363-4c56-92dc-a2560147ddd2",
   "metadata": {},
   "source": [
    "# Creating a 1 dimensional array"
   ]
  },
  {
   "cell_type": "code",
   "execution_count": 49,
   "id": "acf9dbe8-e985-4fe4-aa17-6c93e691620f",
   "metadata": {},
   "outputs": [],
   "source": [
    "my_list = [1, 2, 3, 4, 5, 8,9, 10, 11, 12, 13, 14, 15]\n",
    "my_array=np.array(my_list)"
   ]
  },
  {
   "cell_type": "code",
   "execution_count": 8,
   "id": "41d81882-ada1-4bb2-a289-93019b35b8af",
   "metadata": {},
   "outputs": [
    {
     "data": {
      "text/plain": [
       "numpy.ndarray"
      ]
     },
     "execution_count": 8,
     "metadata": {},
     "output_type": "execute_result"
    }
   ],
   "source": [
    "type(my_array)"
   ]
  },
  {
   "cell_type": "code",
   "execution_count": 9,
   "id": "8d66acc7-8fed-4a25-809e-2401cc871eac",
   "metadata": {},
   "outputs": [
    {
     "data": {
      "text/plain": [
       "(7,)"
      ]
     },
     "execution_count": 9,
     "metadata": {},
     "output_type": "execute_result"
    }
   ],
   "source": [
    "my_array.shape"
   ]
  },
  {
   "cell_type": "markdown",
   "id": "642bac91-6c74-4486-bbcc-b104d5c4845f",
   "metadata": {},
   "source": [
    "# Creating a 2 dimensional array"
   ]
  },
  {
   "cell_type": "code",
   "execution_count": 14,
   "id": "e2c7e9ec-232e-4467-9de4-42e70524c63b",
   "metadata": {},
   "outputs": [],
   "source": [
    "my_list1 = [2, 3, 4, 5, 1,]\n",
    "my_list2 = [1, 3, 8, 5, 2,]\n",
    "my_list3 = [6, 9, 4, 7, 8,]\n",
    "\n",
    "two_d=np.array([my_list1, my_list2, my_list3])"
   ]
  },
  {
   "cell_type": "code",
   "execution_count": 15,
   "id": "d772fa2e-8835-49fb-83f5-ff10a338587e",
   "metadata": {},
   "outputs": [
    {
     "data": {
      "text/plain": [
       "array([[2, 3, 4, 5, 1],\n",
       "       [1, 3, 8, 5, 2],\n",
       "       [6, 9, 4, 7, 8]])"
      ]
     },
     "execution_count": 15,
     "metadata": {},
     "output_type": "execute_result"
    }
   ],
   "source": [
    "two_d"
   ]
  },
  {
   "cell_type": "code",
   "execution_count": 16,
   "id": "0ce073c9-7ea7-427c-b4f9-3755ae3df2a2",
   "metadata": {},
   "outputs": [
    {
     "data": {
      "text/plain": [
       "(3, 5)"
      ]
     },
     "execution_count": 16,
     "metadata": {},
     "output_type": "execute_result"
    }
   ],
   "source": [
    "two_d.shape"
   ]
  },
  {
   "cell_type": "code",
   "execution_count": 18,
   "id": "2cc62b7c-f100-4439-b3c1-03b0f944dff6",
   "metadata": {},
   "outputs": [
    {
     "data": {
      "text/plain": [
       "array([[2, 3, 4],\n",
       "       [5, 1, 1],\n",
       "       [3, 8, 5],\n",
       "       [2, 6, 9],\n",
       "       [4, 7, 8]])"
      ]
     },
     "execution_count": 18,
     "metadata": {},
     "output_type": "execute_result"
    }
   ],
   "source": [
    "# Reshaping the array in any shape I want\n",
    "\n",
    "two_d.reshape(5, 3)"
   ]
  },
  {
   "cell_type": "code",
   "execution_count": 19,
   "id": "26c9f212-7b5b-4ece-8d68-4d5b86a44571",
   "metadata": {},
   "outputs": [
    {
     "data": {
      "text/plain": [
       "array([2, 3, 4, 5, 1, 1, 3, 8, 5, 2, 6, 9, 4, 7, 8])"
      ]
     },
     "execution_count": 19,
     "metadata": {},
     "output_type": "execute_result"
    }
   ],
   "source": [
    "two_d.reshape(15, )"
   ]
  },
  {
   "cell_type": "code",
   "execution_count": 21,
   "id": "e9e1c096-d125-4dc9-b8b9-5fb22edc3448",
   "metadata": {},
   "outputs": [
    {
     "data": {
      "text/plain": [
       "array([[2, 3, 4, 5, 1, 1, 3, 8, 5, 2, 6, 9, 4, 7, 8]])"
      ]
     },
     "execution_count": 21,
     "metadata": {},
     "output_type": "execute_result"
    }
   ],
   "source": [
    "two_d.reshape(1, 15)"
   ]
  },
  {
   "cell_type": "markdown",
   "id": "3ccd9bab-6aff-41be-a71f-1af1a89255fa",
   "metadata": {},
   "source": [
    "# INDEXING"
   ]
  },
  {
   "cell_type": "code",
   "execution_count": 22,
   "id": "3de1895c-9b3f-4dc7-af62-f687582a4511",
   "metadata": {},
   "outputs": [],
   "source": [
    "# 11   12   13   14   15\n",
    "# 0    1    2    3    4 -> from left to right\n",
    "# -5   -4   -3   -2   -1 -> from right to left"
   ]
  },
  {
   "cell_type": "code",
   "execution_count": 28,
   "id": "0a003e18-99ef-4ede-8e05-05561e53b4d8",
   "metadata": {},
   "outputs": [],
   "source": [
    "#Single dimensional array\n",
    "one_array =np.array([2, 4, 6, 8, 10])"
   ]
  },
  {
   "cell_type": "code",
   "execution_count": 29,
   "id": "5f883d1d-c5f4-4293-8eb6-9b83cd4c2213",
   "metadata": {},
   "outputs": [
    {
     "data": {
      "text/plain": [
       "array([ 2,  4,  6,  8, 10])"
      ]
     },
     "execution_count": 29,
     "metadata": {},
     "output_type": "execute_result"
    }
   ],
   "source": [
    "one_array"
   ]
  },
  {
   "cell_type": "code",
   "execution_count": 30,
   "id": "b36f72e7-445c-42a5-960a-04b66d2d1e9c",
   "metadata": {},
   "outputs": [
    {
     "data": {
      "text/plain": [
       "np.int64(6)"
      ]
     },
     "execution_count": 30,
     "metadata": {},
     "output_type": "execute_result"
    }
   ],
   "source": [
    "one_array[2]"
   ]
  },
  {
   "cell_type": "code",
   "execution_count": 31,
   "id": "497080ab-982d-4fb6-9856-427173bc5b0d",
   "metadata": {},
   "outputs": [
    {
     "data": {
      "text/plain": [
       "array([[2, 3, 4, 5, 1],\n",
       "       [1, 3, 8, 5, 2],\n",
       "       [6, 9, 4, 7, 8]])"
      ]
     },
     "execution_count": 31,
     "metadata": {},
     "output_type": "execute_result"
    }
   ],
   "source": [
    "#Two dimensional array\n",
    "two_d"
   ]
  },
  {
   "cell_type": "code",
   "execution_count": 32,
   "id": "e37c37c8-7568-44dc-9da3-184900799c06",
   "metadata": {},
   "outputs": [
    {
     "data": {
      "text/plain": [
       "array([[2, 3, 4, 5, 1],\n",
       "       [1, 3, 8, 5, 2],\n",
       "       [6, 9, 4, 7, 8]])"
      ]
     },
     "execution_count": 32,
     "metadata": {},
     "output_type": "execute_result"
    }
   ],
   "source": [
    "two_d[:]"
   ]
  },
  {
   "cell_type": "code",
   "execution_count": 33,
   "id": "b79c0216-853b-416e-9d52-68e2e65f2c10",
   "metadata": {},
   "outputs": [
    {
     "data": {
      "text/plain": [
       "array([2, 3, 4, 5, 1])"
      ]
     },
     "execution_count": 33,
     "metadata": {},
     "output_type": "execute_result"
    }
   ],
   "source": [
    "two_d[0]"
   ]
  },
  {
   "cell_type": "code",
   "execution_count": 34,
   "id": "83137a79-3fad-464d-857c-c10e328e3a9a",
   "metadata": {},
   "outputs": [
    {
     "data": {
      "text/plain": [
       "array([[2, 3, 4, 5, 1],\n",
       "       [1, 3, 8, 5, 2],\n",
       "       [6, 9, 4, 7, 8]])"
      ]
     },
     "execution_count": 34,
     "metadata": {},
     "output_type": "execute_result"
    }
   ],
   "source": [
    "two_d[:,]"
   ]
  },
  {
   "cell_type": "code",
   "execution_count": 35,
   "id": "d2d0dc30-6db8-4b32-88ab-50f0d27885d5",
   "metadata": {},
   "outputs": [
    {
     "data": {
      "text/plain": [
       "array([[1, 3, 8, 5, 2],\n",
       "       [6, 9, 4, 7, 8]])"
      ]
     },
     "execution_count": 35,
     "metadata": {},
     "output_type": "execute_result"
    }
   ],
   "source": [
    "two_d[1:,]"
   ]
  },
  {
   "cell_type": "code",
   "execution_count": 36,
   "id": "e663215f-7236-4b9a-94f1-9ff8ff27c780",
   "metadata": {},
   "outputs": [
    {
     "data": {
      "text/plain": [
       "array([[5, 2],\n",
       "       [7, 8]])"
      ]
     },
     "execution_count": 36,
     "metadata": {},
     "output_type": "execute_result"
    }
   ],
   "source": [
    "two_d[1:,3:]"
   ]
  },
  {
   "cell_type": "code",
   "execution_count": 37,
   "id": "68e3b8ce-3a84-4029-b826-b70b0a9c4968",
   "metadata": {},
   "outputs": [
    {
     "data": {
      "text/plain": [
       "array([[5, 1]])"
      ]
     },
     "execution_count": 37,
     "metadata": {},
     "output_type": "execute_result"
    }
   ],
   "source": [
    "two_d[:1,3:]"
   ]
  },
  {
   "cell_type": "code",
   "execution_count": 38,
   "id": "e2f3ba6a-d350-43f6-bcc2-a67b1e543eb3",
   "metadata": {},
   "outputs": [
    {
     "data": {
      "text/plain": [
       "array([[5, 1],\n",
       "       [5, 2]])"
      ]
     },
     "execution_count": 38,
     "metadata": {},
     "output_type": "execute_result"
    }
   ],
   "source": [
    "two_d[:2,3:]"
   ]
  },
  {
   "cell_type": "markdown",
   "id": "38610ea8-e953-4591-bbb2-8b09946460a7",
   "metadata": {},
   "source": [
    "# Understanding in built functions"
   ]
  },
  {
   "cell_type": "code",
   "execution_count": 42,
   "id": "ea941059-0b7c-43f6-8f2b-d87385678d9b",
   "metadata": {},
   "outputs": [],
   "source": [
    "#Inbuilt function\n",
    "in_built1 =np.arange(1, 25)"
   ]
  },
  {
   "cell_type": "code",
   "execution_count": 44,
   "id": "054657b3-1c15-47f8-b12d-5420b0973853",
   "metadata": {},
   "outputs": [
    {
     "data": {
      "text/plain": [
       "array([ 1,  2,  3,  4,  5,  6,  7,  8,  9, 10, 11, 12, 13, 14, 15, 16, 17,\n",
       "       18, 19, 20, 21, 22, 23, 24])"
      ]
     },
     "execution_count": 44,
     "metadata": {},
     "output_type": "execute_result"
    }
   ],
   "source": [
    "in_built1"
   ]
  },
  {
   "cell_type": "code",
   "execution_count": 45,
   "id": "aefaebae-403b-458c-9755-c2e941f4a4a2",
   "metadata": {},
   "outputs": [],
   "source": [
    "#Inbuilt function with gaps\n",
    "in_built1 =np.arange(1, 25, 3)"
   ]
  },
  {
   "cell_type": "code",
   "execution_count": 46,
   "id": "c0963f52-a791-4de0-8cdc-d26fa72ec972",
   "metadata": {},
   "outputs": [
    {
     "data": {
      "text/plain": [
       "array([ 1,  4,  7, 10, 13, 16, 19, 22])"
      ]
     },
     "execution_count": 46,
     "metadata": {},
     "output_type": "execute_result"
    }
   ],
   "source": [
    "in_built1"
   ]
  },
  {
   "cell_type": "code",
   "execution_count": 48,
   "id": "89b166a8-d9b9-422f-9a16-64bfa3a5b630",
   "metadata": {},
   "outputs": [
    {
     "data": {
      "text/plain": [
       "array([ 1.        ,  1.65517241,  2.31034483,  2.96551724,  3.62068966,\n",
       "        4.27586207,  4.93103448,  5.5862069 ,  6.24137931,  6.89655172,\n",
       "        7.55172414,  8.20689655,  8.86206897,  9.51724138, 10.17241379,\n",
       "       10.82758621, 11.48275862, 12.13793103, 12.79310345, 13.44827586,\n",
       "       14.10344828, 14.75862069, 15.4137931 , 16.06896552, 16.72413793,\n",
       "       17.37931034, 18.03448276, 18.68965517, 19.34482759, 20.        ])"
      ]
     },
     "execution_count": 48,
     "metadata": {},
     "output_type": "execute_result"
    }
   ],
   "source": [
    "#linspace function with gaps -> important for deep learning\n",
    "np.linspace(1, 20, 30)"
   ]
  },
  {
   "cell_type": "code",
   "execution_count": 55,
   "id": "8dd2ae42-92a7-4b0f-9660-39ad7514aa52",
   "metadata": {},
   "outputs": [],
   "source": [
    "# The copy function\n",
    "copy_func=np.array([1,  2,  3,  4,  5,  8,  9, 10, 11, 12, 13, 14, 15])"
   ]
  },
  {
   "cell_type": "code",
   "execution_count": 69,
   "id": "b78a9686-5272-487d-aaa7-eaea44c57ef9",
   "metadata": {},
   "outputs": [
    {
     "data": {
      "text/plain": [
       "array([  1,   2,   3, 150, 150, 150, 150, 150, 150, 150, 150, 150, 150])"
      ]
     },
     "execution_count": 69,
     "metadata": {},
     "output_type": "execute_result"
    }
   ],
   "source": [
    "copy_func"
   ]
  },
  {
   "cell_type": "code",
   "execution_count": 70,
   "id": "2a0f09ac-bf9e-4d6b-9a3c-87f1523ecd55",
   "metadata": {},
   "outputs": [],
   "source": [
    "copy_func[3:]=150"
   ]
  },
  {
   "cell_type": "code",
   "execution_count": 58,
   "id": "14550eb2-c95f-4739-b48e-e83437256864",
   "metadata": {},
   "outputs": [
    {
     "data": {
      "text/plain": [
       "array([  1,   2,   3, 150, 150, 150, 150, 150, 150, 150, 150, 150, 150])"
      ]
     },
     "execution_count": 58,
     "metadata": {},
     "output_type": "execute_result"
    }
   ],
   "source": [
    "copy_func"
   ]
  },
  {
   "cell_type": "code",
   "execution_count": 59,
   "id": "b858ad0c-85f5-43df-9c67-0f148eec1561",
   "metadata": {},
   "outputs": [],
   "source": [
    "copy_func1=copy_func"
   ]
  },
  {
   "cell_type": "code",
   "execution_count": 60,
   "id": "2ef9885a-4573-4044-8db3-bb7544ee49b6",
   "metadata": {},
   "outputs": [
    {
     "name": "stdout",
     "output_type": "stream",
     "text": [
      "[  1   2   3 300 300 300 300 300 300 300 300 300 300]\n"
     ]
    }
   ],
   "source": [
    "copy_func1[3:]=300\n",
    "print(copy_func1)"
   ]
  },
  {
   "cell_type": "code",
   "execution_count": 61,
   "id": "8ccaec71-4a75-4c9a-ae3f-237cb4e7faf8",
   "metadata": {},
   "outputs": [
    {
     "data": {
      "text/plain": [
       "array([  1,   2,   3, 300, 300, 300, 300, 300, 300, 300, 300, 300, 300])"
      ]
     },
     "execution_count": 61,
     "metadata": {},
     "output_type": "execute_result"
    }
   ],
   "source": [
    "copy_func"
   ]
  },
  {
   "cell_type": "code",
   "execution_count": 71,
   "id": "cc8ffe37-e703-4c37-be54-a6b318e635a5",
   "metadata": {},
   "outputs": [],
   "source": [
    "copy_func1=copy_func.copy()"
   ]
  },
  {
   "cell_type": "code",
   "execution_count": 72,
   "id": "ff13995b-4cd5-4f85-b64f-f3c67d75a7e4",
   "metadata": {},
   "outputs": [
    {
     "name": "stdout",
     "output_type": "stream",
     "text": [
      "[  1   2   3 150 150 150 150 150 150 150 150 150 150]\n",
      "[  1   2   3 300 300 300 300 300 300 300 300 300 300]\n"
     ]
    }
   ],
   "source": [
    "print(copy_func)\n",
    "copy_func1[3:]=300\n",
    "print(copy_func1)"
   ]
  },
  {
   "cell_type": "markdown",
   "id": "b8a30fb6-d889-4d38-a561-3d69b5a7bf04",
   "metadata": {},
   "source": [
    "## Useful explanatory data data analysis conditions"
   ]
  },
  {
   "cell_type": "code",
   "execution_count": 73,
   "id": "d6f2a86d-2654-4a8e-822e-516e89dd6a95",
   "metadata": {},
   "outputs": [
    {
     "data": {
      "text/plain": [
       "array([  1,   2,   3, 150, 150, 150, 150, 150, 150, 150, 150, 150, 150])"
      ]
     },
     "execution_count": 73,
     "metadata": {},
     "output_type": "execute_result"
    }
   ],
   "source": [
    "copy_func"
   ]
  },
  {
   "cell_type": "code",
   "execution_count": 75,
   "id": "2aa7cd16-5177-443d-8e4e-389dfbcf4430",
   "metadata": {},
   "outputs": [
    {
     "data": {
      "text/plain": [
       "array([1, 2, 3])"
      ]
     },
     "execution_count": 75,
     "metadata": {},
     "output_type": "execute_result"
    }
   ],
   "source": [
    "my_var =3\n",
    "copy_func[copy_func<=my_var]"
   ]
  },
  {
   "cell_type": "code",
   "execution_count": 77,
   "id": "d4513228-c6fc-4596-8061-150c71252e91",
   "metadata": {},
   "outputs": [
    {
     "data": {
      "text/plain": [
       "array([1, 1, 1, 1, 1, 1, 1, 1])"
      ]
     },
     "execution_count": 77,
     "metadata": {},
     "output_type": "execute_result"
    }
   ],
   "source": [
    "np.ones(8,dtype=int)"
   ]
  },
  {
   "cell_type": "code",
   "execution_count": 78,
   "id": "d180cc3d-1cbe-44ac-8777-3f678756f685",
   "metadata": {},
   "outputs": [
    {
     "data": {
      "text/plain": [
       "array([[1., 1., 1., 1., 1., 1.],\n",
       "       [1., 1., 1., 1., 1., 1.]])"
      ]
     },
     "execution_count": 78,
     "metadata": {},
     "output_type": "execute_result"
    }
   ],
   "source": [
    "np.ones((2,6),dtype=float)"
   ]
  },
  {
   "cell_type": "code",
   "execution_count": 52,
   "id": "ee961278-3234-48f7-b2e8-dacaca1e6092",
   "metadata": {},
   "outputs": [],
   "source": [
    "my_array1=my_array"
   ]
  },
  {
   "cell_type": "code",
   "execution_count": 54,
   "id": "5de0905e-5448-468c-a138-7873faa0ec01",
   "metadata": {},
   "outputs": [
    {
     "name": "stdout",
     "output_type": "stream",
     "text": [
      "[  1   2   3 200 200 200 200 200 200 200 200 200 200]\n"
     ]
    }
   ],
   "source": [
    "my_array[3:]=200\n",
    "print(my_array1)"
   ]
  },
  {
   "cell_type": "code",
   "execution_count": null,
   "id": "39a4e7ec-15eb-4af1-8f53-1db99d9c632b",
   "metadata": {},
   "outputs": [],
   "source": []
  }
 ],
 "metadata": {
  "kernelspec": {
   "display_name": "Python 3 (ipykernel)",
   "language": "python",
   "name": "python3"
  },
  "language_info": {
   "codemirror_mode": {
    "name": "ipython",
    "version": 3
   },
   "file_extension": ".py",
   "mimetype": "text/x-python",
   "name": "python",
   "nbconvert_exporter": "python",
   "pygments_lexer": "ipython3",
   "version": "3.11.5"
  }
 },
 "nbformat": 4,
 "nbformat_minor": 5
}
